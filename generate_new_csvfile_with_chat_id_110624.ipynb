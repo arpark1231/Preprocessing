{
 "cells": [
  {
   "cell_type": "code",
   "execution_count": 7,
   "id": "94dd0b04",
   "metadata": {},
   "outputs": [
    {
     "name": "stderr",
     "output_type": "stream",
     "text": [
      "C:\\Users\\ArumPark\\anaconda3\\lib\\site-packages\\openpyxl\\worksheet\\_reader.py:312: UserWarning: Data Validation extension is not supported and will be removed\n",
      "  warn(msg)\n"
     ]
    }
   ],
   "source": [
    "import pandas as pd\n",
    "\n",
    "# Read the original CSV file\n",
    "df = pd.read_excel(\"C:/Users/ArumPark/Desktop/Disputation/emoticon/data/smiely_extraction_total_data_110624.xlsx\", sheet_name='emoticon_total')\n",
    "\n",
    "# Initialize a new column for chat_id\n",
    "df['chat_id'] = 0\n",
    "\n",
    "# Track the current chat_id\n",
    "current_chat_id = 0\n",
    "\n",
    "# The previous base ID for comparison\n",
    "previous_base_id = \"\"\n",
    "\n",
    "# Function to extract the base ID from utterance_id\n",
    "def get_base_id(utterance_id):\n",
    "    return utterance_id.split('.')[0]\n",
    "\n",
    "# Iterate over the DataFrame rows\n",
    "for index, row in df.iterrows():\n",
    "    # Extract the base ID from the current utterance_id\n",
    "    base_id = get_base_id(row['utterance_id'])\n",
    "    \n",
    "    # Check if the base ID is the same as the previous one\n",
    "    if base_id != previous_base_id:\n",
    "        # Update chat_id and set the previous_base_id to the current one\n",
    "        current_chat_id += 1\n",
    "        previous_base_id = base_id\n",
    "        \n",
    "    # Assign the current chat_id to the row\n",
    "    df.at[index, 'chat_id'] = current_chat_id\n",
    "\n",
    "# Reorder columns to place chat_id at the start\n",
    "cols = df.columns.tolist()\n",
    "cols.insert(0, cols.pop(cols.index('chat_id')))\n",
    "df = df[cols]\n",
    "\n",
    "# Save the modified DataFrame to a new excel file\n",
    "df.to_excel('C:/Users/ArumPark/Desktop/Disputation/emoticon/data/chat_id_test2.xlsx', index=False)\n"
   ]
  },
  {
   "cell_type": "code",
   "execution_count": 13,
   "id": "ee79f84f",
   "metadata": {},
   "outputs": [],
   "source": [
    "df = pd.read_excel('C:/Users/ArumPark/Desktop/Disputation/emoticon/data/chat_id_test2.xlsx')\n",
    "\n",
    "# Define the metadata categories to filter\n",
    "categories = [\"메신저 대화 > 다자 대화\", \"메신저 대화 > 2인 대화\"]\n",
    "\n",
    "# Initialize an empty DataFrame to store the results\n",
    "result_df = pd.DataFrame()\n",
    "\n",
    "# Loop through each category\n",
    "for category in categories:\n",
    "    # Filter the DataFrame for the current category\n",
    "    category_df = df[df['metadata_category'] == category]\n",
    "    \n",
    "    # Get the unique chat_id values\n",
    "    unique_chat_ids = category_df['chat_id'].unique()\n",
    "    \n",
    "    # Randomly sample 20 different chat_id values\n",
    "    if len(unique_chat_ids) >= 20:\n",
    "        sampled_chat_ids = pd.Series(unique_chat_ids).sample(n=20, random_state=1)\n",
    "    else:\n",
    "        print(f\"Not enough unique chat_id values in category '{category}'\")\n",
    "        sampled_chat_ids = pd.Series(unique_chat_ids)\n",
    "    \n",
    "    # Extract the rows corresponding to the sampled chat_id values\n",
    "    sampled_df = category_df[category_df['chat_id'].isin(sampled_chat_ids)]\n",
    "    \n",
    "    # Append the sampled data to the result DataFrame\n",
    "    result_df = pd.concat([result_df, sampled_df])\n",
    "\n",
    "# Renumber the chat_id and Nr. columns\n",
    "# First, we reset the index to ensure the numbering starts from 0\n",
    "result_df = result_df.reset_index(drop=True)\n",
    "\n",
    "# Create a mapping for new chat_ids starting from 1\n",
    "chat_id_mapping = {old_id: new_id for new_id, old_id in enumerate(result_df['chat_id'].unique(), start=1)}\n",
    "result_df['chat_id'] = result_df['chat_id'].map(chat_id_mapping)\n",
    "\n",
    "# Renumber the Nr. column uniquely\n",
    "result_df['Nr.'] = range(1, len(result_df) + 1)\n",
    "\n",
    "# Save the result to a new Excel file\n",
    "result_df.to_excel('C:/Users/ArumPark/Desktop/Disputation/emoticon/data/random_sentences_with_all_columns_numbering.xlsx', index=False)"
   ]
  },
  {
   "cell_type": "code",
   "execution_count": 14,
   "id": "b520ec92",
   "metadata": {},
   "outputs": [
    {
     "name": "stdout",
     "output_type": "stream",
     "text": [
      "utterance_ids: ['MMRW1900000046.1.1.56', 'MMRW1900000046.1.1.487', 'MMRW1900000046.1.1.652', 'MMRW1900000046.1.1.770', 'MMRW1900000046.1.1.1350', 'MMRW1900000046.1.1.1773', 'MMRW1900000046.1.1.1860', 'MMRW1900000046.1.1.2855', 'MMRW1900000046.1.1.3095', 'MMRW1900000046.1.1.3868', 'MMRW1900000046.1.1.3958', 'MMRW1900000046.1.1.4158', 'MMRW1900000046.1.1.4270', 'MMRW1900000047.1.1.361', 'MMRW1900000047.1.1.3646', 'MMRW1900000054.1.1.36', 'MMRW1900000054.1.1.41', 'MMRW1900000086.1.1.39', 'MMRW1900000094.1.1.1', 'MMRW1900000094.1.1.5', 'MMRW1900000110.1.1.163', 'MMRW1900000110.1.1.365', 'MMRW1900000110.1.1.699', 'MMRW1900000125.1.1.642', 'MMRW1900000134.1.1.355', 'MMRW1900000134.1.1.1893', 'MMRW1900000134.1.1.2267', 'MMRW1900000214.1.1.153', 'MMRW1900000248.1.1.2', 'MMRW1900000250.1.1.2', 'MMRW1900000250.1.1.3', 'MMRW1900000250.1.1.11', 'MMRW1900000251.1.1.2', 'MMRW1900000251.1.1.10', 'MMRW1900000251.1.1.29', 'MMRW1900000252.1.1.2', 'MMRW1900000269.1.1.7', 'MMRW1900000269.1.1.82', 'MMRW1900000269.1.1.119', 'MMRW1900000271.1.1.40', 'MMRW1900000274.1.1.23', 'MMRW1900000274.1.1.26', 'MMRW1900000274.1.1.28', 'MMRW1900000274.1.1.34', 'MMRW1900000294.1.1.132', 'MMRW1900000296.1.1.2', 'MMRW1900000297.1.1.94', 'MMRW1900000297.1.1.179', 'MMRW1900000367.1.1.67', 'MMRW1900000367.1.1.68', 'MMRW1900000367.1.1.87', 'MDRW1900000296.1.1.8', 'MDRW1900000296.1.1.59', 'MDRW1900000307.1.1.3', 'MDRW1900000307.1.1.30', 'MDRW1900000307.1.1.31', 'MDRW1900000307.1.1.32', 'MDRW1900000520.1.1.15', 'MDRW1900000606.1.1.1', 'MDRW1900000606.1.1.5', 'MDRW1900000606.1.1.13', 'MDRW1900000606.1.1.48', 'MDRW1900001047.1.1.5', 'MDRW1900001047.1.1.6', 'MDRW1900001047.1.1.11', 'MDRW1900001047.1.1.13', 'MDRW1900001047.1.1.17', 'MDRW1900001047.1.1.22', 'MDRW1900001047.1.1.37', 'MDRW1900001047.1.1.48', 'MDRW1900001047.1.1.58', 'MDRW1900001047.1.1.59', 'MDRW1900001107.1.1.31', 'MDRW1900001107.1.1.90', 'MDRW1900001159.1.1.2', 'MDRW1900001912.1.1.2', 'MDRW1900001912.1.1.88', 'MDRW1900001912.1.1.89', 'MDRW1900001912.1.1.91', 'MDRW1900001971.1.1.65', 'MDRW1900001971.1.1.634', 'MDRW1900001971.1.1.661', 'MDRW1900001971.1.1.781', 'MDRW1900001971.1.1.1114', 'MDRW1900001971.1.1.1259', 'MDRW1900001971.1.1.1674', 'MDRW1900001971.1.1.1686', 'MDRW1900001971.1.1.1687', 'MDRW1900001971.1.1.1694', 'MDRW1900001971.1.1.2715', 'MDRW1900001971.1.1.2763', 'MDRW1900001971.1.1.2896', 'MDRW1900001971.1.1.2899', 'MDRW1900001971.1.1.2902', 'MDRW1900001971.1.1.2912', 'MDRW1900001971.1.1.3890', 'MDRW1900001971.1.1.3918', 'MDRW1900001971.1.1.3920', 'MDRW1900001971.1.1.3938', 'MDRW1900001971.1.1.4322', 'MDRW1900001971.1.1.4540', 'MDRW1900001971.1.1.4551', 'MDRW1900001971.1.1.4596', 'MDRW1900001971.1.1.4696', 'MDRW1900001971.1.1.4739', 'MDRW1900001971.1.1.4741', 'MDRW1900001971.1.1.4765', 'MDRW1900002076.1.1.18', 'MDRW1900002076.1.1.34', 'MDRW1900002786.1.1.35', 'MDRW1900003591.1.1.94', 'MDRW1900004133.1.1.2', 'MDRW1900004570.1.1.162', 'MDRW1900004570.1.1.264', 'MDRW1900004570.1.1.273', 'MDRW1900004671.1.1.16', 'MDRW1900004671.1.1.21', 'MDRW1900004691.1.1.3', 'MDRW1900004836.1.1.2', 'MDRW1900005614.1.1.40', 'MDRW1900005671.1.1.53', 'MDRW1900005671.1.1.69', 'MDRW1900005930.1.1.5']\n"
     ]
    }
   ],
   "source": [
    "def get_utterance_ids(file_path, sheet_name, column_name):\n",
    "    try:\n",
    "        # Excel 파일 불러오기\n",
    "        df = pd.read_excel(file_path, sheet_name=sheet_name)\n",
    "        \n",
    "        # 'utterance_id' 열의 값을 리스트로 저장\n",
    "        utterance_ids = df[column_name].tolist()\n",
    "        \n",
    "        return utterance_ids\n",
    "    except Exception as e:\n",
    "        print(\"Error:\", e)\n",
    "        return []\n",
    "\n",
    "# 파일 경로와 열 이름을 적절히 수정하여 사용하세요\n",
    "file_path = \"smiliey_new_annotation_file_20chats_each_110624.xlsx\"\n",
    "sheet_name = \"annotation\"\n",
    "column_name = \"utterance_id\"\n",
    "\n",
    "utterance_ids = get_utterance_ids(file_path, sheet_name, column_name)\n",
    "print(\"utterance_ids:\", utterance_ids)"
   ]
  }
 ],
 "metadata": {
  "kernelspec": {
   "display_name": "Python 3",
   "language": "python",
   "name": "python3"
  },
  "language_info": {
   "codemirror_mode": {
    "name": "ipython",
    "version": 3
   },
   "file_extension": ".py",
   "mimetype": "text/x-python",
   "name": "python",
   "nbconvert_exporter": "python",
   "pygments_lexer": "ipython3",
   "version": "3.8.8"
  }
 },
 "nbformat": 4,
 "nbformat_minor": 5
}
